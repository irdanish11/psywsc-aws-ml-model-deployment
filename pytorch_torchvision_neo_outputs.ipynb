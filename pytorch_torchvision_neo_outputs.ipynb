{
 "cells": [
  {
   "cell_type": "markdown",
   "id": "ac04c67e",
   "metadata": {
    "papermill": {
     "duration": 0.011732,
     "end_time": "2022-04-18T00:18:16.161859",
     "exception": false,
     "start_time": "2022-04-18T00:18:16.150127",
     "status": "completed"
    },
    "tags": []
   },
   "source": [
    "# Deploying pre-trained PyTorch vision models with Amazon SageMaker Neo"
   ]
  },
  {
   "cell_type": "markdown",
   "id": "b326b31e-94cf-4bdf-bb91-80ce38258666",
   "metadata": {},
   "source": [
    "![title](ml-model-api.png)"
   ]
  },
  {
   "cell_type": "markdown",
   "id": "d0137737",
   "metadata": {
    "papermill": {
     "duration": 0.011702,
     "end_time": "2022-04-18T00:18:16.185264",
     "exception": false,
     "start_time": "2022-04-18T00:18:16.173562",
     "status": "completed"
    },
    "tags": []
   },
   "source": [
    "Amazon SageMaker Neo is an API to compile machine learning models to optimize them for our choice of hardware targets. Currently, Neo supports pre-trained PyTorch models from [TorchVision](https://pytorch.org/docs/stable/torchvision/models.html). General support for other PyTorch models is forthcoming.\n",
    "\n",
    "### Runtime\n",
    "\n",
    "This notebook takes approximately 8 minutes to run.\n",
    "\n",
    "### Contents\n",
    "\n",
    "1. [Import ResNet18 from TorchVision](#Import-ResNet18-from-TorchVision)\n",
    "1. [Invoke Neo Compilation API](#Invoke-Neo-Compilation-API)\n",
    "1. [Deploy the model](#Deploy-the-model)\n",
    "1. [Send requests](#Send-requests)\n",
    "1. [Delete the Endpoint](#Delete-the-Endpoint)"
   ]
  },
  {
   "cell_type": "markdown",
   "id": "cd7b52cd",
   "metadata": {
    "papermill": {
     "duration": 0.011596,
     "end_time": "2022-04-18T00:18:16.208541",
     "exception": false,
     "start_time": "2022-04-18T00:18:16.196945",
     "status": "completed"
    },
    "tags": []
   },
   "source": [
    "## Import ResNet18 from TorchVision"
   ]
  },
  {
   "cell_type": "markdown",
   "id": "43a3ae74",
   "metadata": {
    "papermill": {
     "duration": 0.011605,
     "end_time": "2022-04-18T00:18:16.231839",
     "exception": false,
     "start_time": "2022-04-18T00:18:16.220234",
     "status": "completed"
    },
    "tags": []
   },
   "source": [
    "We import the [ResNet18](https://arxiv.org/abs/1512.03385) model from TorchVision and create a model artifact `model.tar.gz`."
   ]
  },
  {
   "cell_type": "markdown",
   "id": "ae9cfaef",
   "metadata": {
    "papermill": {
     "duration": 0.224379,
     "end_time": "2022-04-18T00:19:12.546549",
     "exception": false,
     "start_time": "2022-04-18T00:19:12.322170",
     "status": "completed"
    },
    "tags": []
   },
   "source": [
    "Specify the input data shape. For more information, see [Prepare Model for Compilation](https://docs.aws.amazon.com/sagemaker/latest/dg/neo-compilation-preparing-model.html)."
   ]
  },
  {
   "cell_type": "code",
   "execution_count": 1,
   "id": "67f79fde",
   "metadata": {
    "papermill": {
     "duration": 4.687205,
     "end_time": "2022-04-18T00:19:17.451149",
     "exception": false,
     "start_time": "2022-04-18T00:19:12.763944",
     "status": "completed"
    },
    "tags": []
   },
   "outputs": [],
   "source": [
    "import sagemaker\n",
    "import torch\n",
    "import torchvision.models as models\n",
    "import tarfile\n",
    "\n",
    "resnet18 = models.resnet18(pretrained=True)\n",
    "input_shape = [1, 3, 224, 224]\n",
    "trace = torch.jit.trace(resnet18.float().eval(), torch.zeros(input_shape).float())\n",
    "trace.save(\"model.pth\")\n",
    "\n",
    "with tarfile.open(\"model.tar.gz\", \"w:gz\") as f:\n",
    "    f.add(\"model.pth\")"
   ]
  },
  {
   "cell_type": "markdown",
   "id": "b50b08cb",
   "metadata": {
    "papermill": {
     "duration": 0.216512,
     "end_time": "2022-04-18T00:19:17.884970",
     "exception": false,
     "start_time": "2022-04-18T00:19:17.668458",
     "status": "completed"
    },
    "tags": []
   },
   "source": [
    "### Upload the model archive to S3"
   ]
  },
  {
   "cell_type": "markdown",
   "id": "84550937",
   "metadata": {
    "papermill": {
     "duration": 0.217803,
     "end_time": "2022-04-18T00:19:18.321118",
     "exception": false,
     "start_time": "2022-04-18T00:19:18.103315",
     "status": "completed"
    },
    "tags": []
   },
   "source": [
    "Specify parameters for the compilation job and upload the `model.tar.gz` archive file."
   ]
  },
  {
   "cell_type": "code",
   "execution_count": 2,
   "id": "bd9fb38d",
   "metadata": {
    "papermill": {
     "duration": 1.517029,
     "end_time": "2022-04-18T00:19:20.055405",
     "exception": false,
     "start_time": "2022-04-18T00:19:18.538376",
     "status": "completed"
    },
    "tags": []
   },
   "outputs": [],
   "source": [
    "import boto3\n",
    "import sagemaker\n",
    "import time\n",
    "from sagemaker.utils import name_from_base\n",
    "\n",
    "role = \"sagemaker-execution-role\"\n",
    "bucket = \"eoe-sagemaker-bucket\"\n",
    "sess = sagemaker.Session()\n",
    "region = sess.boto_region_name\n",
    "#bucket = sess.default_bucket()\n",
    "\n"
   ]
  },
  {
   "cell_type": "code",
   "execution_count": 3,
   "id": "6c011b32-79d5-49ce-8af2-371608e1bd6c",
   "metadata": {},
   "outputs": [],
   "source": [
    "compilation_job_name = name_from_base(\"TorchVision-ResNet18-Neo\")\n",
    "prefix = compilation_job_name + \"/model\"\n",
    "\n",
    "model_path = sess.upload_data(path=\"model.tar.gz\", key_prefix=prefix)\n",
    "\n",
    "data_shape = '{\"input0\":[1,3,224,224]}'\n",
    "target_device = \"ml_c5\"\n",
    "framework = \"PYTORCH\"\n",
    "framework_version = \"1.6\"\n",
    "compiled_model_path = \"s3://{}/{}/output\".format(bucket, compilation_job_name)"
   ]
  },
  {
   "cell_type": "markdown",
   "id": "b9c3d10f",
   "metadata": {
    "papermill": {
     "duration": 0.221192,
     "end_time": "2022-04-18T00:19:20.491607",
     "exception": false,
     "start_time": "2022-04-18T00:19:20.270415",
     "status": "completed"
    },
    "tags": []
   },
   "source": [
    "## Invoke Neo Compilation API"
   ]
  },
  {
   "cell_type": "markdown",
   "id": "9baa9304",
   "metadata": {
    "papermill": {
     "duration": 0.218278,
     "end_time": "2022-04-18T00:19:20.933444",
     "exception": false,
     "start_time": "2022-04-18T00:19:20.715166",
     "status": "completed"
    },
    "tags": []
   },
   "source": [
    "### Create a PyTorch SageMaker model"
   ]
  },
  {
   "cell_type": "markdown",
   "id": "b7cbada9",
   "metadata": {
    "papermill": {
     "duration": 0.21646,
     "end_time": "2022-04-18T00:19:21.369175",
     "exception": false,
     "start_time": "2022-04-18T00:19:21.152715",
     "status": "completed"
    },
    "tags": []
   },
   "source": [
    "Use the `PyTorchModel` and define parameters including the path to the model, the `entry_point` script that is used to perform inference, and other version and environment variables."
   ]
  },
  {
   "cell_type": "code",
   "execution_count": 4,
   "id": "fda27f04",
   "metadata": {
    "papermill": {
     "duration": 0.227076,
     "end_time": "2022-04-18T00:19:21.816269",
     "exception": false,
     "start_time": "2022-04-18T00:19:21.589193",
     "status": "completed"
    },
    "tags": []
   },
   "outputs": [],
   "source": [
    "from sagemaker.pytorch.model import PyTorchModel\n",
    "from sagemaker.predictor import Predictor\n",
    "\n",
    "sagemaker_model = PyTorchModel(\n",
    "    model_data=model_path,\n",
    "    predictor_cls=Predictor,\n",
    "    framework_version=framework_version,\n",
    "    role=role,\n",
    "    sagemaker_session=sess,\n",
    "    entry_point=\"resnet18.py\",\n",
    "    source_dir=\"code\",\n",
    "    py_version=\"py3\",\n",
    "    env={\"MMS_DEFAULT_RESPONSE_TIMEOUT\": \"500\"},\n",
    ")"
   ]
  },
  {
   "cell_type": "markdown",
   "id": "314a743a",
   "metadata": {
    "papermill": {
     "duration": 0.215617,
     "end_time": "2022-04-18T00:19:22.246434",
     "exception": false,
     "start_time": "2022-04-18T00:19:22.030817",
     "status": "completed"
    },
    "tags": []
   },
   "source": [
    "### Use Neo compiler to compile the model"
   ]
  },
  {
   "cell_type": "markdown",
   "id": "7eda118a",
   "metadata": {
    "papermill": {
     "duration": 0.216387,
     "end_time": "2022-04-18T00:19:22.680732",
     "exception": false,
     "start_time": "2022-04-18T00:19:22.464345",
     "status": "completed"
    },
    "tags": []
   },
   "source": [
    "Run the compilation job, which is saved in S3 at the specified `compiled_model_path` location."
   ]
  },
  {
   "cell_type": "code",
   "execution_count": 5,
   "id": "f7b22b7f",
   "metadata": {
    "papermill": {
     "duration": 374.401455,
     "end_time": "2022-04-18T00:25:37.297851",
     "exception": false,
     "start_time": "2022-04-18T00:19:22.896396",
     "status": "completed"
    },
    "tags": []
   },
   "outputs": [
    {
     "name": "stdout",
     "output_type": "stream",
     "text": [
      "????????????????????????????????.....................................................!"
     ]
    },
    {
     "name": "stdout",
     "output_type": "stream",
     "text": [
      "?"
     ]
    },
    {
     "name": "stdout",
     "output_type": "stream",
     "text": [
      "?"
     ]
    },
    {
     "name": "stdout",
     "output_type": "stream",
     "text": [
      "?"
     ]
    },
    {
     "name": "stdout",
     "output_type": "stream",
     "text": [
      "?"
     ]
    },
    {
     "name": "stdout",
     "output_type": "stream",
     "text": [
      "?"
     ]
    },
    {
     "name": "stdout",
     "output_type": "stream",
     "text": [
      "?"
     ]
    },
    {
     "name": "stdout",
     "output_type": "stream",
     "text": [
      "?"
     ]
    },
    {
     "name": "stdout",
     "output_type": "stream",
     "text": [
      "?"
     ]
    },
    {
     "name": "stdout",
     "output_type": "stream",
     "text": [
      "?"
     ]
    },
    {
     "name": "stdout",
     "output_type": "stream",
     "text": [
      "?"
     ]
    },
    {
     "name": "stdout",
     "output_type": "stream",
     "text": [
      "?"
     ]
    },
    {
     "name": "stdout",
     "output_type": "stream",
     "text": [
      "?"
     ]
    },
    {
     "name": "stdout",
     "output_type": "stream",
     "text": [
      "?"
     ]
    },
    {
     "name": "stdout",
     "output_type": "stream",
     "text": [
      "?"
     ]
    },
    {
     "name": "stdout",
     "output_type": "stream",
     "text": [
      "?"
     ]
    },
    {
     "name": "stdout",
     "output_type": "stream",
     "text": [
      "?"
     ]
    },
    {
     "name": "stdout",
     "output_type": "stream",
     "text": [
      "?"
     ]
    },
    {
     "name": "stdout",
     "output_type": "stream",
     "text": [
      "?"
     ]
    },
    {
     "name": "stdout",
     "output_type": "stream",
     "text": [
      "?"
     ]
    },
    {
     "name": "stdout",
     "output_type": "stream",
     "text": [
      "?"
     ]
    },
    {
     "name": "stdout",
     "output_type": "stream",
     "text": [
      "?"
     ]
    },
    {
     "name": "stdout",
     "output_type": "stream",
     "text": [
      "?"
     ]
    },
    {
     "name": "stdout",
     "output_type": "stream",
     "text": [
      "."
     ]
    },
    {
     "name": "stdout",
     "output_type": "stream",
     "text": [
      "."
     ]
    },
    {
     "name": "stdout",
     "output_type": "stream",
     "text": [
      "."
     ]
    },
    {
     "name": "stdout",
     "output_type": "stream",
     "text": [
      "."
     ]
    },
    {
     "name": "stdout",
     "output_type": "stream",
     "text": [
      "."
     ]
    },
    {
     "name": "stdout",
     "output_type": "stream",
     "text": [
      "."
     ]
    },
    {
     "name": "stdout",
     "output_type": "stream",
     "text": [
      "."
     ]
    },
    {
     "name": "stdout",
     "output_type": "stream",
     "text": [
      "."
     ]
    },
    {
     "name": "stdout",
     "output_type": "stream",
     "text": [
      "."
     ]
    },
    {
     "name": "stdout",
     "output_type": "stream",
     "text": [
      "."
     ]
    },
    {
     "name": "stdout",
     "output_type": "stream",
     "text": [
      "."
     ]
    },
    {
     "name": "stdout",
     "output_type": "stream",
     "text": [
      "."
     ]
    },
    {
     "name": "stdout",
     "output_type": "stream",
     "text": [
      "."
     ]
    },
    {
     "name": "stdout",
     "output_type": "stream",
     "text": [
      "."
     ]
    },
    {
     "name": "stdout",
     "output_type": "stream",
     "text": [
      "."
     ]
    },
    {
     "name": "stdout",
     "output_type": "stream",
     "text": [
      "."
     ]
    },
    {
     "name": "stdout",
     "output_type": "stream",
     "text": [
      "."
     ]
    },
    {
     "name": "stdout",
     "output_type": "stream",
     "text": [
      "."
     ]
    },
    {
     "name": "stdout",
     "output_type": "stream",
     "text": [
      "."
     ]
    },
    {
     "name": "stdout",
     "output_type": "stream",
     "text": [
      "."
     ]
    },
    {
     "name": "stdout",
     "output_type": "stream",
     "text": [
      "."
     ]
    },
    {
     "name": "stdout",
     "output_type": "stream",
     "text": [
      "."
     ]
    },
    {
     "name": "stdout",
     "output_type": "stream",
     "text": [
      "."
     ]
    },
    {
     "name": "stdout",
     "output_type": "stream",
     "text": [
      "."
     ]
    },
    {
     "name": "stdout",
     "output_type": "stream",
     "text": [
      "."
     ]
    },
    {
     "name": "stdout",
     "output_type": "stream",
     "text": [
      "."
     ]
    },
    {
     "name": "stdout",
     "output_type": "stream",
     "text": [
      "."
     ]
    },
    {
     "name": "stdout",
     "output_type": "stream",
     "text": [
      "."
     ]
    },
    {
     "name": "stdout",
     "output_type": "stream",
     "text": [
      "."
     ]
    },
    {
     "name": "stdout",
     "output_type": "stream",
     "text": [
      "."
     ]
    },
    {
     "name": "stdout",
     "output_type": "stream",
     "text": [
      "."
     ]
    },
    {
     "name": "stdout",
     "output_type": "stream",
     "text": [
      "."
     ]
    },
    {
     "name": "stdout",
     "output_type": "stream",
     "text": [
      "."
     ]
    },
    {
     "name": "stdout",
     "output_type": "stream",
     "text": [
      "."
     ]
    },
    {
     "name": "stdout",
     "output_type": "stream",
     "text": [
      "."
     ]
    },
    {
     "name": "stdout",
     "output_type": "stream",
     "text": [
      "."
     ]
    },
    {
     "name": "stdout",
     "output_type": "stream",
     "text": [
      "."
     ]
    },
    {
     "name": "stdout",
     "output_type": "stream",
     "text": [
      "."
     ]
    },
    {
     "name": "stdout",
     "output_type": "stream",
     "text": [
      "."
     ]
    },
    {
     "name": "stdout",
     "output_type": "stream",
     "text": [
      "."
     ]
    },
    {
     "name": "stdout",
     "output_type": "stream",
     "text": [
      "."
     ]
    },
    {
     "name": "stdout",
     "output_type": "stream",
     "text": [
      "."
     ]
    },
    {
     "name": "stdout",
     "output_type": "stream",
     "text": [
      "."
     ]
    },
    {
     "name": "stdout",
     "output_type": "stream",
     "text": [
      "."
     ]
    },
    {
     "name": "stdout",
     "output_type": "stream",
     "text": [
      "!"
     ]
    }
   ],
   "source": [
    "compiled_model = sagemaker_model.compile(\n",
    "    target_instance_family=target_device,\n",
    "    input_shape=data_shape,\n",
    "    job_name=compilation_job_name,\n",
    "    role=role,\n",
    "    framework=framework.lower(),\n",
    "    framework_version=framework_version,\n",
    "    output_path=compiled_model_path,\n",
    ")"
   ]
  },
  {
   "cell_type": "markdown",
   "id": "6c520827",
   "metadata": {
    "papermill": {
     "duration": 0.23333,
     "end_time": "2022-04-18T00:25:37.761699",
     "exception": false,
     "start_time": "2022-04-18T00:25:37.528369",
     "status": "completed"
    },
    "tags": []
   },
   "source": [
    "## Deploy the model"
   ]
  },
  {
   "cell_type": "markdown",
   "id": "88eecffe",
   "metadata": {
    "papermill": {
     "duration": 0.232202,
     "end_time": "2022-04-18T00:25:38.224491",
     "exception": false,
     "start_time": "2022-04-18T00:25:37.992289",
     "status": "completed"
    },
    "tags": []
   },
   "source": [
    "Deploy the compiled model to an endpoint so it can be used for inference."
   ]
  },
  {
   "cell_type": "code",
   "execution_count": 42,
   "id": "7806cfe8",
   "metadata": {
    "papermill": {
     "duration": 124.944534,
     "end_time": "2022-04-18T00:27:43.403935",
     "exception": false,
     "start_time": "2022-04-18T00:25:38.459401",
     "status": "completed"
    },
    "tags": []
   },
   "outputs": [
    {
     "name": "stdout",
     "output_type": "stream",
     "text": [
      "-----!"
     ]
    }
   ],
   "source": [
    "predictor = compiled_model.deploy(initial_instance_count=1, instance_type=\"ml.c5.9xlarge\", endpoint_name=\"classification-model\")"
   ]
  },
  {
   "cell_type": "markdown",
   "id": "187da2cf",
   "metadata": {
    "papermill": {
     "duration": 0.228251,
     "end_time": "2022-04-18T00:27:43.858832",
     "exception": false,
     "start_time": "2022-04-18T00:27:43.630581",
     "status": "completed"
    },
    "tags": []
   },
   "source": [
    "## Send requests"
   ]
  },
  {
   "cell_type": "markdown",
   "id": "4cf7939b",
   "metadata": {
    "papermill": {
     "duration": 0.227104,
     "end_time": "2022-04-18T00:27:44.311870",
     "exception": false,
     "start_time": "2022-04-18T00:27:44.084766",
     "status": "completed"
    },
    "tags": []
   },
   "source": [
    "Let's send a picture to the endpoint to predict the image subject.\n",
    "\n",
    "![title](https://raw.githubusercontent.com/aws/amazon-sagemaker-examples/main/sagemaker_neo_compilation_jobs/pytorch_torchvision/cat.jpg)"
   ]
  },
  {
   "cell_type": "markdown",
   "id": "94b70e06",
   "metadata": {
    "papermill": {
     "duration": 0.227595,
     "end_time": "2022-04-18T00:27:44.767150",
     "exception": false,
     "start_time": "2022-04-18T00:27:44.539555",
     "status": "completed"
    },
    "tags": []
   },
   "source": [
    "Open the image and pass the payload as a bytearray to the predictor, receiving a response."
   ]
  },
  {
   "cell_type": "code",
   "execution_count": 9,
   "id": "c43b7bf5-8326-4301-a898-2bbfcb6af5de",
   "metadata": {
    "papermill": {
     "duration": 0.391979,
     "end_time": "2022-04-18T00:27:45.387230",
     "exception": false,
     "start_time": "2022-04-18T00:27:44.995251",
     "status": "completed"
    },
    "tags": []
   },
   "outputs": [],
   "source": [
    "import numpy as np\n",
    "import json\n",
    "\n",
    "with open(\"cat.jpg\", \"rb\") as f:\n",
    "    payload = f.read()\n",
    "    payload = bytearray(payload)\n",
    "\n"
   ]
  },
  {
   "cell_type": "markdown",
   "id": "5ecdcf87-6e46-4488-bd90-cda6053c5612",
   "metadata": {},
   "source": [
    "# Inference: Make a request"
   ]
  },
  {
   "cell_type": "code",
   "execution_count": 10,
   "id": "d3f52496-1aee-43b6-bc6d-05eb182318d9",
   "metadata": {},
   "outputs": [
    {
     "name": "stdout",
     "output_type": "stream",
     "text": [
      "Most likely class: 282\n"
     ]
    }
   ],
   "source": [
    "response = predictor.predict(payload)\n",
    "result = json.loads(response.decode())\n",
    "print(\"Most likely class: {}\".format(np.argmax(result)))"
   ]
  },
  {
   "cell_type": "markdown",
   "id": "211abf72",
   "metadata": {
    "papermill": {
     "duration": 0.227142,
     "end_time": "2022-04-18T00:27:45.840878",
     "exception": false,
     "start_time": "2022-04-18T00:27:45.613736",
     "status": "completed"
    },
    "tags": []
   },
   "source": [
    "Use the ImageNet class ID response to look up which subject the image contains, and with what probability."
   ]
  },
  {
   "cell_type": "code",
   "execution_count": 11,
   "id": "6a17b416",
   "metadata": {
    "papermill": {
     "duration": 0.241199,
     "end_time": "2022-04-18T00:27:46.309453",
     "exception": false,
     "start_time": "2022-04-18T00:27:46.068254",
     "status": "completed"
    },
    "tags": []
   },
   "outputs": [
    {
     "name": "stdout",
     "output_type": "stream",
     "text": [
      "The label is 'tiger cat' with probability 0.645\n"
     ]
    }
   ],
   "source": [
    "# Load names for ImageNet classes\n",
    "object_categories = {}\n",
    "with open(\"imagenet1000_clsidx_to_labels.txt\", \"r\") as f:\n",
    "    for line in f:\n",
    "        key, val = line.strip().split(\":\")\n",
    "        object_categories[key] = val.strip(\" \").strip(\",\")\n",
    "print(\n",
    "    \"The label is\",\n",
    "    object_categories[str(np.argmax(result))],\n",
    "    \"with probability\",\n",
    "    str(np.amax(result))[:5],\n",
    ")"
   ]
  },
  {
   "cell_type": "markdown",
   "id": "60fcb3b5",
   "metadata": {
    "papermill": {
     "duration": 0.232129,
     "end_time": "2022-04-18T00:27:46.770056",
     "exception": false,
     "start_time": "2022-04-18T00:27:46.537927",
     "status": "completed"
    },
    "tags": []
   },
   "source": [
    "## Delete the Endpoint\n",
    "Delete the endpoint to avoid incurring costs now that it is no longer needed."
   ]
  },
  {
   "cell_type": "code",
   "execution_count": 40,
   "id": "b2637f54",
   "metadata": {
    "papermill": {
     "duration": 0.548955,
     "end_time": "2022-04-18T00:27:47.547502",
     "exception": false,
     "start_time": "2022-04-18T00:27:46.998547",
     "status": "completed"
    },
    "tags": []
   },
   "outputs": [],
   "source": [
    "predictor.delete_model()\n",
    "sess.delete_endpoint(predictor.endpoint_name)"
   ]
  },
  {
   "cell_type": "markdown",
   "id": "1c14a842-91c4-4c1d-893a-ab10b0846880",
   "metadata": {},
   "source": [
    "# Code for Lambda"
   ]
  },
  {
   "cell_type": "code",
   "execution_count": null,
   "id": "0169af79-2fd2-431e-ab2c-66dbf31cc6ce",
   "metadata": {},
   "outputs": [],
   "source": []
  }
 ],
 "metadata": {
  "kernelspec": {
   "display_name": "Python 3 (ipykernel)",
   "language": "python",
   "name": "python3"
  },
  "language_info": {
   "codemirror_mode": {
    "name": "ipython",
    "version": 3
   },
   "file_extension": ".py",
   "mimetype": "text/x-python",
   "name": "python",
   "nbconvert_exporter": "python",
   "pygments_lexer": "ipython3",
   "version": "3.8.0"
  },
  "papermill": {
   "default_parameters": {},
   "duration": 572.787102,
   "end_time": "2022-04-18T00:27:48.193610",
   "environment_variables": {},
   "exception": null,
   "input_path": "pytorch_torchvision_neo.ipynb",
   "output_path": "/opt/ml/processing/output/pytorch_torchvision_neo-2022-04-18-00-13-22.ipynb",
   "parameters": {
    "kms_key": "arn:aws:kms:us-west-2:000000000000:1234abcd-12ab-34cd-56ef-1234567890ab"
   },
   "start_time": "2022-04-18T00:18:15.406508",
   "version": "2.3.4"
  },
  "widgets": {
   "application/vnd.jupyter.widget-state+json": {
    "state": {
     "0e5b07ec571e4cb291156e963398a926": {
      "model_module": "@jupyter-widgets/controls",
      "model_module_version": "1.5.0",
      "model_name": "ProgressStyleModel",
      "state": {
       "_model_module": "@jupyter-widgets/controls",
       "_model_module_version": "1.5.0",
       "_model_name": "ProgressStyleModel",
       "_view_count": null,
       "_view_module": "@jupyter-widgets/base",
       "_view_module_version": "1.2.0",
       "_view_name": "StyleView",
       "bar_color": null,
       "description_width": ""
      }
     },
     "10212c2a668e4ff2ba8feba32a3b0753": {
      "model_module": "@jupyter-widgets/controls",
      "model_module_version": "1.5.0",
      "model_name": "DescriptionStyleModel",
      "state": {
       "_model_module": "@jupyter-widgets/controls",
       "_model_module_version": "1.5.0",
       "_model_name": "DescriptionStyleModel",
       "_view_count": null,
       "_view_module": "@jupyter-widgets/base",
       "_view_module_version": "1.2.0",
       "_view_name": "StyleView",
       "description_width": ""
      }
     },
     "3108841dca424b6bb36ececd45f4bc1e": {
      "model_module": "@jupyter-widgets/controls",
      "model_module_version": "1.5.0",
      "model_name": "HBoxModel",
      "state": {
       "_dom_classes": [],
       "_model_module": "@jupyter-widgets/controls",
       "_model_module_version": "1.5.0",
       "_model_name": "HBoxModel",
       "_view_count": null,
       "_view_module": "@jupyter-widgets/controls",
       "_view_module_version": "1.5.0",
       "_view_name": "HBoxView",
       "box_style": "",
       "children": [
        "IPY_MODEL_51ed61a20d3a4187a3788b019fe21a40",
        "IPY_MODEL_5e5301d0d6c84627a964fad6f75b674f",
        "IPY_MODEL_9dcaae5acaa44732ae81cb9d3000233a"
       ],
       "layout": "IPY_MODEL_e58a2ed55a0d4133a35d5c66b2862667"
      }
     },
     "3850682273334047b4bfde9316a23781": {
      "model_module": "@jupyter-widgets/controls",
      "model_module_version": "1.5.0",
      "model_name": "DescriptionStyleModel",
      "state": {
       "_model_module": "@jupyter-widgets/controls",
       "_model_module_version": "1.5.0",
       "_model_name": "DescriptionStyleModel",
       "_view_count": null,
       "_view_module": "@jupyter-widgets/base",
       "_view_module_version": "1.2.0",
       "_view_name": "StyleView",
       "description_width": ""
      }
     },
     "42c5459d735a4215a17801bdd4d121ec": {
      "model_module": "@jupyter-widgets/base",
      "model_module_version": "1.2.0",
      "model_name": "LayoutModel",
      "state": {
       "_model_module": "@jupyter-widgets/base",
       "_model_module_version": "1.2.0",
       "_model_name": "LayoutModel",
       "_view_count": null,
       "_view_module": "@jupyter-widgets/base",
       "_view_module_version": "1.2.0",
       "_view_name": "LayoutView",
       "align_content": null,
       "align_items": null,
       "align_self": null,
       "border": null,
       "bottom": null,
       "display": null,
       "flex": null,
       "flex_flow": null,
       "grid_area": null,
       "grid_auto_columns": null,
       "grid_auto_flow": null,
       "grid_auto_rows": null,
       "grid_column": null,
       "grid_gap": null,
       "grid_row": null,
       "grid_template_areas": null,
       "grid_template_columns": null,
       "grid_template_rows": null,
       "height": null,
       "justify_content": null,
       "justify_items": null,
       "left": null,
       "margin": null,
       "max_height": null,
       "max_width": null,
       "min_height": null,
       "min_width": null,
       "object_fit": null,
       "object_position": null,
       "order": null,
       "overflow": null,
       "overflow_x": null,
       "overflow_y": null,
       "padding": null,
       "right": null,
       "top": null,
       "visibility": null,
       "width": null
      }
     },
     "51ed61a20d3a4187a3788b019fe21a40": {
      "model_module": "@jupyter-widgets/controls",
      "model_module_version": "1.5.0",
      "model_name": "HTMLModel",
      "state": {
       "_dom_classes": [],
       "_model_module": "@jupyter-widgets/controls",
       "_model_module_version": "1.5.0",
       "_model_name": "HTMLModel",
       "_view_count": null,
       "_view_module": "@jupyter-widgets/controls",
       "_view_module_version": "1.5.0",
       "_view_name": "HTMLView",
       "description": "",
       "description_tooltip": null,
       "layout": "IPY_MODEL_a703d59092d04352b503d44df427b513",
       "placeholder": "​",
       "style": "IPY_MODEL_3850682273334047b4bfde9316a23781",
       "value": "100%"
      }
     },
     "5e5301d0d6c84627a964fad6f75b674f": {
      "model_module": "@jupyter-widgets/controls",
      "model_module_version": "1.5.0",
      "model_name": "FloatProgressModel",
      "state": {
       "_dom_classes": [],
       "_model_module": "@jupyter-widgets/controls",
       "_model_module_version": "1.5.0",
       "_model_name": "FloatProgressModel",
       "_view_count": null,
       "_view_module": "@jupyter-widgets/controls",
       "_view_module_version": "1.5.0",
       "_view_name": "ProgressView",
       "bar_style": "success",
       "description": "",
       "description_tooltip": null,
       "layout": "IPY_MODEL_a8ecaabf1930414599cc1cbe47bffe18",
       "max": 46827520,
       "min": 0,
       "orientation": "horizontal",
       "style": "IPY_MODEL_0e5b07ec571e4cb291156e963398a926",
       "value": 46827520
      }
     },
     "9dcaae5acaa44732ae81cb9d3000233a": {
      "model_module": "@jupyter-widgets/controls",
      "model_module_version": "1.5.0",
      "model_name": "HTMLModel",
      "state": {
       "_dom_classes": [],
       "_model_module": "@jupyter-widgets/controls",
       "_model_module_version": "1.5.0",
       "_model_name": "HTMLModel",
       "_view_count": null,
       "_view_module": "@jupyter-widgets/controls",
       "_view_module_version": "1.5.0",
       "_view_name": "HTMLView",
       "description": "",
       "description_tooltip": null,
       "layout": "IPY_MODEL_42c5459d735a4215a17801bdd4d121ec",
       "placeholder": "​",
       "style": "IPY_MODEL_10212c2a668e4ff2ba8feba32a3b0753",
       "value": " 44.7M/44.7M [00:00&lt;00:00, 202MB/s]"
      }
     },
     "a703d59092d04352b503d44df427b513": {
      "model_module": "@jupyter-widgets/base",
      "model_module_version": "1.2.0",
      "model_name": "LayoutModel",
      "state": {
       "_model_module": "@jupyter-widgets/base",
       "_model_module_version": "1.2.0",
       "_model_name": "LayoutModel",
       "_view_count": null,
       "_view_module": "@jupyter-widgets/base",
       "_view_module_version": "1.2.0",
       "_view_name": "LayoutView",
       "align_content": null,
       "align_items": null,
       "align_self": null,
       "border": null,
       "bottom": null,
       "display": null,
       "flex": null,
       "flex_flow": null,
       "grid_area": null,
       "grid_auto_columns": null,
       "grid_auto_flow": null,
       "grid_auto_rows": null,
       "grid_column": null,
       "grid_gap": null,
       "grid_row": null,
       "grid_template_areas": null,
       "grid_template_columns": null,
       "grid_template_rows": null,
       "height": null,
       "justify_content": null,
       "justify_items": null,
       "left": null,
       "margin": null,
       "max_height": null,
       "max_width": null,
       "min_height": null,
       "min_width": null,
       "object_fit": null,
       "object_position": null,
       "order": null,
       "overflow": null,
       "overflow_x": null,
       "overflow_y": null,
       "padding": null,
       "right": null,
       "top": null,
       "visibility": null,
       "width": null
      }
     },
     "a8ecaabf1930414599cc1cbe47bffe18": {
      "model_module": "@jupyter-widgets/base",
      "model_module_version": "1.2.0",
      "model_name": "LayoutModel",
      "state": {
       "_model_module": "@jupyter-widgets/base",
       "_model_module_version": "1.2.0",
       "_model_name": "LayoutModel",
       "_view_count": null,
       "_view_module": "@jupyter-widgets/base",
       "_view_module_version": "1.2.0",
       "_view_name": "LayoutView",
       "align_content": null,
       "align_items": null,
       "align_self": null,
       "border": null,
       "bottom": null,
       "display": null,
       "flex": null,
       "flex_flow": null,
       "grid_area": null,
       "grid_auto_columns": null,
       "grid_auto_flow": null,
       "grid_auto_rows": null,
       "grid_column": null,
       "grid_gap": null,
       "grid_row": null,
       "grid_template_areas": null,
       "grid_template_columns": null,
       "grid_template_rows": null,
       "height": null,
       "justify_content": null,
       "justify_items": null,
       "left": null,
       "margin": null,
       "max_height": null,
       "max_width": null,
       "min_height": null,
       "min_width": null,
       "object_fit": null,
       "object_position": null,
       "order": null,
       "overflow": null,
       "overflow_x": null,
       "overflow_y": null,
       "padding": null,
       "right": null,
       "top": null,
       "visibility": null,
       "width": null
      }
     },
     "e58a2ed55a0d4133a35d5c66b2862667": {
      "model_module": "@jupyter-widgets/base",
      "model_module_version": "1.2.0",
      "model_name": "LayoutModel",
      "state": {
       "_model_module": "@jupyter-widgets/base",
       "_model_module_version": "1.2.0",
       "_model_name": "LayoutModel",
       "_view_count": null,
       "_view_module": "@jupyter-widgets/base",
       "_view_module_version": "1.2.0",
       "_view_name": "LayoutView",
       "align_content": null,
       "align_items": null,
       "align_self": null,
       "border": null,
       "bottom": null,
       "display": null,
       "flex": null,
       "flex_flow": null,
       "grid_area": null,
       "grid_auto_columns": null,
       "grid_auto_flow": null,
       "grid_auto_rows": null,
       "grid_column": null,
       "grid_gap": null,
       "grid_row": null,
       "grid_template_areas": null,
       "grid_template_columns": null,
       "grid_template_rows": null,
       "height": null,
       "justify_content": null,
       "justify_items": null,
       "left": null,
       "margin": null,
       "max_height": null,
       "max_width": null,
       "min_height": null,
       "min_width": null,
       "object_fit": null,
       "object_position": null,
       "order": null,
       "overflow": null,
       "overflow_x": null,
       "overflow_y": null,
       "padding": null,
       "right": null,
       "top": null,
       "visibility": null,
       "width": null
      }
     }
    },
    "version_major": 2,
    "version_minor": 0
   }
  }
 },
 "nbformat": 4,
 "nbformat_minor": 5
}
